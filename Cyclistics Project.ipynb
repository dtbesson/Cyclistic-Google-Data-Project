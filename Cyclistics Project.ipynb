{
 "cells": [
  {
   "cell_type": "markdown",
   "id": "e2f22358",
   "metadata": {},
   "source": [
    "### Loading and combining the data\n",
    "Import all the packages we will be using."
   ]
  },
  {
   "cell_type": "code",
   "execution_count": 1,
   "id": "1fe40005",
   "metadata": {},
   "outputs": [],
   "source": [
    "import pandas as pd\n",
    "import seaborn as sns\n",
    "import matplotlib.pyplot as plt\n",
    "import datetime as dt"
   ]
  },
  {
   "cell_type": "markdown",
   "id": "084e48ef",
   "metadata": {},
   "source": [
    "Load all of the data we need."
   ]
  },
  {
   "cell_type": "code",
   "execution_count": 2,
   "id": "25712325",
   "metadata": {},
   "outputs": [],
   "source": [
    "jan_2019 = pd.read_csv(r\"C:\\Users\\besso\\OneDrive\\Documents\\Data Science Practice\\202101-divvy-tripdata.csv\")\n",
    "feb_2019 = pd.read_csv(r\"C:\\Users\\besso\\OneDrive\\Documents\\Data Science Practice\\202102-divvy-tripdata.csv\")\n",
    "mar_2019 = pd.read_csv(r\"C:\\Users\\besso\\OneDrive\\Documents\\Data Science Practice\\202103-divvy-tripdata.csv\")\n",
    "apr_2019 = pd.read_csv(r\"C:\\Users\\besso\\OneDrive\\Documents\\Data Science Practice\\202104-divvy-tripdata.csv\")\n",
    "may_2019 = pd.read_csv(r\"C:\\Users\\besso\\OneDrive\\Documents\\Data Science Practice\\202105-divvy-tripdata.csv\")\n",
    "jun_2019 = pd.read_csv(r\"C:\\Users\\besso\\OneDrive\\Documents\\Data Science Practice\\202106-divvy-tripdata.csv\")\n",
    "jul_2019 = pd.read_csv(r\"C:\\Users\\besso\\OneDrive\\Documents\\Data Science Practice\\202107-divvy-tripdata.csv\")\n",
    "aug_2019 = pd.read_csv(r\"C:\\Users\\besso\\OneDrive\\Documents\\Data Science Practice\\202108-divvy-tripdata.csv\")\n",
    "sep_2019 = pd.read_csv(r\"C:\\Users\\besso\\OneDrive\\Documents\\Data Science Practice\\202109-divvy-tripdata.csv\")\n",
    "oct_2019 = pd.read_csv(r\"C:\\Users\\besso\\OneDrive\\Documents\\Data Science Practice\\202110-divvy-tripdata.csv\")\n",
    "nov_2019 = pd.read_csv(r\"C:\\Users\\besso\\OneDrive\\Documents\\Data Science Practice\\202111-divvy-tripdata.csv\")\n",
    "dec_2019 = pd.read_csv(r\"C:\\Users\\besso\\OneDrive\\Documents\\Data Science Practice\\202112-divvy-tripdata.csv\")"
   ]
  },
  {
   "cell_type": "markdown",
   "id": "15ac0a4d",
   "metadata": {},
   "source": [
    "Observe the general info of each file to get a feel for the number of rows in each. Also check the column names within each file before we go about joining them all into one."
   ]
  },
  {
   "cell_type": "code",
   "execution_count": 3,
   "id": "06e8a2b9",
   "metadata": {},
   "outputs": [
    {
     "name": "stdout",
     "output_type": "stream",
     "text": [
      "<class 'pandas.core.frame.DataFrame'>\n",
      "RangeIndex: 96834 entries, 0 to 96833\n",
      "Data columns (total 13 columns):\n",
      " #   Column              Non-Null Count  Dtype  \n",
      "---  ------              --------------  -----  \n",
      " 0   ride_id             96834 non-null  object \n",
      " 1   rideable_type       96834 non-null  object \n",
      " 2   started_at          96834 non-null  object \n",
      " 3   ended_at            96834 non-null  object \n",
      " 4   start_station_name  88209 non-null  object \n",
      " 5   start_station_id    88209 non-null  object \n",
      " 6   end_station_name    86557 non-null  object \n",
      " 7   end_station_id      86557 non-null  object \n",
      " 8   start_lat           96834 non-null  float64\n",
      " 9   start_lng           96834 non-null  float64\n",
      " 10  end_lat             96731 non-null  float64\n",
      " 11  end_lng             96731 non-null  float64\n",
      " 12  member_casual       96834 non-null  object \n",
      "dtypes: float64(4), object(9)\n",
      "memory usage: 9.6+ MB\n",
      "<class 'pandas.core.frame.DataFrame'>\n",
      "RangeIndex: 49622 entries, 0 to 49621\n",
      "Data columns (total 13 columns):\n",
      " #   Column              Non-Null Count  Dtype  \n",
      "---  ------              --------------  -----  \n",
      " 0   ride_id             49622 non-null  object \n",
      " 1   rideable_type       49622 non-null  object \n",
      " 2   started_at          49622 non-null  object \n",
      " 3   ended_at            49622 non-null  object \n",
      " 4   start_station_name  45576 non-null  object \n",
      " 5   start_station_id    45576 non-null  object \n",
      " 6   end_station_name    44264 non-null  object \n",
      " 7   end_station_id      44264 non-null  object \n",
      " 8   start_lat           49622 non-null  float64\n",
      " 9   start_lng           49622 non-null  float64\n",
      " 10  end_lat             49408 non-null  float64\n",
      " 11  end_lng             49408 non-null  float64\n",
      " 12  member_casual       49622 non-null  object \n",
      "dtypes: float64(4), object(9)\n",
      "memory usage: 4.9+ MB\n",
      "<class 'pandas.core.frame.DataFrame'>\n",
      "RangeIndex: 228496 entries, 0 to 228495\n",
      "Data columns (total 13 columns):\n",
      " #   Column              Non-Null Count   Dtype  \n",
      "---  ------              --------------   -----  \n",
      " 0   ride_id             228496 non-null  object \n",
      " 1   rideable_type       228496 non-null  object \n",
      " 2   started_at          228496 non-null  object \n",
      " 3   ended_at            228496 non-null  object \n",
      " 4   start_station_name  213648 non-null  object \n",
      " 5   start_station_id    213648 non-null  object \n",
      " 6   end_station_name    211769 non-null  object \n",
      " 7   end_station_id      211769 non-null  object \n",
      " 8   start_lat           228496 non-null  float64\n",
      " 9   start_lng           228496 non-null  float64\n",
      " 10  end_lat             228329 non-null  float64\n",
      " 11  end_lng             228329 non-null  float64\n",
      " 12  member_casual       228496 non-null  object \n",
      "dtypes: float64(4), object(9)\n",
      "memory usage: 22.7+ MB\n",
      "<class 'pandas.core.frame.DataFrame'>\n",
      "RangeIndex: 337230 entries, 0 to 337229\n",
      "Data columns (total 13 columns):\n",
      " #   Column              Non-Null Count   Dtype  \n",
      "---  ------              --------------   -----  \n",
      " 0   ride_id             337230 non-null  object \n",
      " 1   rideable_type       337230 non-null  object \n",
      " 2   started_at          337230 non-null  object \n",
      " 3   ended_at            337230 non-null  object \n",
      " 4   start_station_name  311174 non-null  object \n",
      " 5   start_station_id    311174 non-null  object \n",
      " 6   end_station_name    309056 non-null  object \n",
      " 7   end_station_id      309056 non-null  object \n",
      " 8   start_lat           337230 non-null  float64\n",
      " 9   start_lng           337230 non-null  float64\n",
      " 10  end_lat             336963 non-null  float64\n",
      " 11  end_lng             336963 non-null  float64\n",
      " 12  member_casual       337230 non-null  object \n",
      "dtypes: float64(4), object(9)\n",
      "memory usage: 33.4+ MB\n",
      "<class 'pandas.core.frame.DataFrame'>\n",
      "RangeIndex: 531633 entries, 0 to 531632\n",
      "Data columns (total 13 columns):\n",
      " #   Column              Non-Null Count   Dtype  \n",
      "---  ------              --------------   -----  \n",
      " 0   ride_id             531633 non-null  object \n",
      " 1   rideable_type       531633 non-null  object \n",
      " 2   started_at          531633 non-null  object \n",
      " 3   ended_at            531633 non-null  object \n",
      " 4   start_station_name  477889 non-null  object \n",
      " 5   start_station_id    477889 non-null  object \n",
      " 6   end_station_name    473439 non-null  object \n",
      " 7   end_station_id      473439 non-null  object \n",
      " 8   start_lat           531633 non-null  float64\n",
      " 9   start_lng           531633 non-null  float64\n",
      " 10  end_lat             531181 non-null  float64\n",
      " 11  end_lng             531181 non-null  float64\n",
      " 12  member_casual       531633 non-null  object \n",
      "dtypes: float64(4), object(9)\n",
      "memory usage: 52.7+ MB\n",
      "<class 'pandas.core.frame.DataFrame'>\n",
      "RangeIndex: 729595 entries, 0 to 729594\n",
      "Data columns (total 13 columns):\n",
      " #   Column              Non-Null Count   Dtype  \n",
      "---  ------              --------------   -----  \n",
      " 0   ride_id             729595 non-null  object \n",
      " 1   rideable_type       729595 non-null  object \n",
      " 2   started_at          729595 non-null  object \n",
      " 3   ended_at            729595 non-null  object \n",
      " 4   start_station_name  649502 non-null  object \n",
      " 5   start_station_id    649502 non-null  object \n",
      " 6   end_station_name    643208 non-null  object \n",
      " 7   end_station_id      643208 non-null  object \n",
      " 8   start_lat           729595 non-null  float64\n",
      " 9   start_lng           729595 non-null  float64\n",
      " 10  end_lat             728878 non-null  float64\n",
      " 11  end_lng             728878 non-null  float64\n",
      " 12  member_casual       729595 non-null  object \n",
      "dtypes: float64(4), object(9)\n",
      "memory usage: 72.4+ MB\n",
      "<class 'pandas.core.frame.DataFrame'>\n",
      "RangeIndex: 822410 entries, 0 to 822409\n",
      "Data columns (total 13 columns):\n",
      " #   Column              Non-Null Count   Dtype  \n",
      "---  ------              --------------   -----  \n",
      " 0   ride_id             822410 non-null  object \n",
      " 1   rideable_type       822410 non-null  object \n",
      " 2   started_at          822410 non-null  object \n",
      " 3   ended_at            822410 non-null  object \n",
      " 4   start_station_name  735147 non-null  object \n",
      " 5   start_station_id    735148 non-null  object \n",
      " 6   end_station_name    729252 non-null  object \n",
      " 7   end_station_id      729252 non-null  object \n",
      " 8   start_lat           822410 non-null  float64\n",
      " 9   start_lng           822410 non-null  float64\n",
      " 10  end_lat             821679 non-null  float64\n",
      " 11  end_lng             821679 non-null  float64\n",
      " 12  member_casual       822410 non-null  object \n",
      "dtypes: float64(4), object(9)\n",
      "memory usage: 81.6+ MB\n",
      "<class 'pandas.core.frame.DataFrame'>\n",
      "RangeIndex: 804352 entries, 0 to 804351\n",
      "Data columns (total 13 columns):\n",
      " #   Column              Non-Null Count   Dtype  \n",
      "---  ------              --------------   -----  \n",
      " 0   ride_id             804352 non-null  object \n",
      " 1   rideable_type       804352 non-null  object \n",
      " 2   started_at          804352 non-null  object \n",
      " 3   ended_at            804352 non-null  object \n",
      " 4   start_station_name  715894 non-null  object \n",
      " 5   start_station_id    715894 non-null  object \n",
      " 6   end_station_name    710237 non-null  object \n",
      " 7   end_station_id      710237 non-null  object \n",
      " 8   start_lat           804352 non-null  float64\n",
      " 9   start_lng           804352 non-null  float64\n",
      " 10  end_lat             803646 non-null  float64\n",
      " 11  end_lng             803646 non-null  float64\n",
      " 12  member_casual       804352 non-null  object \n",
      "dtypes: float64(4), object(9)\n",
      "memory usage: 79.8+ MB\n",
      "<class 'pandas.core.frame.DataFrame'>\n",
      "RangeIndex: 756147 entries, 0 to 756146\n",
      "Data columns (total 13 columns):\n",
      " #   Column              Non-Null Count   Dtype  \n",
      "---  ------              --------------   -----  \n",
      " 0   ride_id             756147 non-null  object \n",
      " 1   rideable_type       756147 non-null  object \n",
      " 2   started_at          756147 non-null  object \n",
      " 3   ended_at            756147 non-null  object \n",
      " 4   start_station_name  663034 non-null  object \n",
      " 5   start_station_id    663036 non-null  object \n",
      " 6   end_station_name    656886 non-null  object \n",
      " 7   end_station_id      656886 non-null  object \n",
      " 8   start_lat           756147 non-null  float64\n",
      " 9   start_lng           756147 non-null  float64\n",
      " 10  end_lat             755552 non-null  float64\n",
      " 11  end_lng             755552 non-null  float64\n",
      " 12  member_casual       756147 non-null  object \n",
      "dtypes: float64(4), object(9)\n",
      "memory usage: 75.0+ MB\n",
      "<class 'pandas.core.frame.DataFrame'>\n",
      "RangeIndex: 631226 entries, 0 to 631225\n",
      "Data columns (total 13 columns):\n",
      " #   Column              Non-Null Count   Dtype  \n",
      "---  ------              --------------   -----  \n",
      " 0   ride_id             631226 non-null  object \n",
      " 1   rideable_type       631226 non-null  object \n",
      " 2   started_at          631226 non-null  object \n",
      " 3   ended_at            631226 non-null  object \n",
      " 4   start_station_name  523016 non-null  object \n",
      " 5   start_station_id    523016 non-null  object \n",
      " 6   end_station_name    516392 non-null  object \n",
      " 7   end_station_id      516392 non-null  object \n",
      " 8   start_lat           631226 non-null  float64\n",
      " 9   start_lng           631226 non-null  float64\n",
      " 10  end_lat             630742 non-null  float64\n",
      " 11  end_lng             630742 non-null  float64\n",
      " 12  member_casual       631226 non-null  object \n",
      "dtypes: float64(4), object(9)\n",
      "memory usage: 62.6+ MB\n"
     ]
    },
    {
     "name": "stdout",
     "output_type": "stream",
     "text": [
      "<class 'pandas.core.frame.DataFrame'>\n",
      "RangeIndex: 359978 entries, 0 to 359977\n",
      "Data columns (total 13 columns):\n",
      " #   Column              Non-Null Count   Dtype  \n",
      "---  ------              --------------   -----  \n",
      " 0   ride_id             359978 non-null  object \n",
      " 1   rideable_type       359978 non-null  object \n",
      " 2   started_at          359978 non-null  object \n",
      " 3   ended_at            359978 non-null  object \n",
      " 4   start_station_name  284688 non-null  object \n",
      " 5   start_station_id    284688 non-null  object \n",
      " 6   end_station_name    280791 non-null  object \n",
      " 7   end_station_id      280791 non-null  object \n",
      " 8   start_lat           359978 non-null  float64\n",
      " 9   start_lng           359978 non-null  float64\n",
      " 10  end_lat             359787 non-null  float64\n",
      " 11  end_lng             359787 non-null  float64\n",
      " 12  member_casual       359978 non-null  object \n",
      "dtypes: float64(4), object(9)\n",
      "memory usage: 35.7+ MB\n",
      "<class 'pandas.core.frame.DataFrame'>\n",
      "RangeIndex: 247540 entries, 0 to 247539\n",
      "Data columns (total 13 columns):\n",
      " #   Column              Non-Null Count   Dtype  \n",
      "---  ------              --------------   -----  \n",
      " 0   ride_id             247540 non-null  object \n",
      " 1   rideable_type       247540 non-null  object \n",
      " 2   started_at          247540 non-null  object \n",
      " 3   ended_at            247540 non-null  object \n",
      " 4   start_station_name  196477 non-null  object \n",
      " 5   start_station_id    196477 non-null  object \n",
      " 6   end_station_name    194042 non-null  object \n",
      " 7   end_station_id      194042 non-null  object \n",
      " 8   start_lat           247540 non-null  float64\n",
      " 9   start_lng           247540 non-null  float64\n",
      " 10  end_lat             247396 non-null  float64\n",
      " 11  end_lng             247396 non-null  float64\n",
      " 12  member_casual       247540 non-null  object \n",
      "dtypes: float64(4), object(9)\n",
      "memory usage: 24.6+ MB\n"
     ]
    }
   ],
   "source": [
    "jan_2019.info()\n",
    "feb_2019.info()\n",
    "mar_2019.info()\n",
    "apr_2019.info()\n",
    "may_2019.info()\n",
    "jun_2019.info()\n",
    "jul_2019.info()\n",
    "aug_2019.info()\n",
    "sep_2019.info()\n",
    "oct_2019.info()\n",
    "nov_2019.info()\n",
    "dec_2019.info()"
   ]
  },
  {
   "cell_type": "markdown",
   "id": "911763db",
   "metadata": {},
   "source": [
    "No potential issues found, combine all 12 files into 1 dataset."
   ]
  },
  {
   "cell_type": "code",
   "execution_count": 4,
   "id": "7dc5471d",
   "metadata": {},
   "outputs": [],
   "source": [
    "data = pd.concat([jan_2019,feb_2019,mar_2019,apr_2019,may_2019,jun_2019,jul_2019,\n",
    "           aug_2019,sep_2019,oct_2019,nov_2019,dec_2019], axis = 0)"
   ]
  },
  {
   "cell_type": "markdown",
   "id": "4c551015",
   "metadata": {},
   "source": [
    "### Dropping columns\n",
    "Drop the columns with information we will not be using. Namely, those with geographical information."
   ]
  },
  {
   "cell_type": "code",
   "execution_count": 5,
   "id": "4f4f437e",
   "metadata": {},
   "outputs": [],
   "source": [
    "data = data.drop(columns = ['start_station_name','start_station_id',\n",
    "                            'end_station_name','end_station_id',\n",
    "                            'start_lat','start_lng','end_lat','end_lng'])  "
   ]
  },
  {
   "cell_type": "markdown",
   "id": "31c25d72",
   "metadata": {},
   "source": [
    "### Duplicates and blank entries\n",
    "Check for duplicate rows."
   ]
  },
  {
   "cell_type": "code",
   "execution_count": 6,
   "id": "044b0d29",
   "metadata": {},
   "outputs": [
    {
     "data": {
      "text/html": [
       "<div>\n",
       "<style scoped>\n",
       "    .dataframe tbody tr th:only-of-type {\n",
       "        vertical-align: middle;\n",
       "    }\n",
       "\n",
       "    .dataframe tbody tr th {\n",
       "        vertical-align: top;\n",
       "    }\n",
       "\n",
       "    .dataframe thead th {\n",
       "        text-align: right;\n",
       "    }\n",
       "</style>\n",
       "<table border=\"1\" class=\"dataframe\">\n",
       "  <thead>\n",
       "    <tr style=\"text-align: right;\">\n",
       "      <th></th>\n",
       "      <th>ride_id</th>\n",
       "      <th>rideable_type</th>\n",
       "      <th>started_at</th>\n",
       "      <th>ended_at</th>\n",
       "      <th>member_casual</th>\n",
       "    </tr>\n",
       "  </thead>\n",
       "  <tbody>\n",
       "  </tbody>\n",
       "</table>\n",
       "</div>"
      ],
      "text/plain": [
       "Empty DataFrame\n",
       "Columns: [ride_id, rideable_type, started_at, ended_at, member_casual]\n",
       "Index: []"
      ]
     },
     "execution_count": 6,
     "metadata": {},
     "output_type": "execute_result"
    }
   ],
   "source": [
    "# define the duplicates\n",
    "duplicates = data.duplicated()\n",
    "# print them\n",
    "data[duplicates]"
   ]
  },
  {
   "cell_type": "markdown",
   "id": "a3263d5c",
   "metadata": {},
   "source": [
    "None were found.\n",
    "\n",
    "Check how many blank entries there are in the dataframe."
   ]
  },
  {
   "cell_type": "code",
   "execution_count": 7,
   "id": "5cf9957f",
   "metadata": {},
   "outputs": [
    {
     "data": {
      "text/plain": [
       "ride_id          0\n",
       "rideable_type    0\n",
       "started_at       0\n",
       "ended_at         0\n",
       "member_casual    0\n",
       "dtype: int64"
      ]
     },
     "execution_count": 7,
     "metadata": {},
     "output_type": "execute_result"
    }
   ],
   "source": [
    "data.isna().sum()"
   ]
  },
  {
   "cell_type": "markdown",
   "id": "39798e08",
   "metadata": {},
   "source": [
    "There are none again.\n",
    "\n",
    "### Categorical entries\n",
    "Check for unusual entries in the categorical columns 'rideable_type' and 'member_casual'."
   ]
  },
  {
   "cell_type": "code",
   "execution_count": 8,
   "id": "7907a116",
   "metadata": {
    "scrolled": false
   },
   "outputs": [
    {
     "data": {
      "text/plain": [
       "rideable_type\n",
       "classic_bike     3251028\n",
       "electric_bike    2031692\n",
       "docked_bike       312343\n",
       "dtype: int64"
      ]
     },
     "execution_count": 8,
     "metadata": {},
     "output_type": "execute_result"
    }
   ],
   "source": [
    "data.value_counts('rideable_type')"
   ]
  },
  {
   "cell_type": "markdown",
   "id": "9642e3d0",
   "metadata": {},
   "source": [
    "On closer thought about the bike types, I believe that 'classic' and 'docked' bikes are exactly the same. A Cyclistic 'classic' bike will be docked anyway. Since we are not able to clarify this, I decide that the two should be treated as exactly the same."
   ]
  },
  {
   "cell_type": "code",
   "execution_count": 9,
   "id": "163495ee",
   "metadata": {
    "scrolled": true
   },
   "outputs": [],
   "source": [
    "data.loc[data['rideable_type'] == 'docked_bike', ['rideable_type']] = 'classic_bike'"
   ]
  },
  {
   "cell_type": "code",
   "execution_count": 10,
   "id": "31c5daf2",
   "metadata": {
    "scrolled": false
   },
   "outputs": [
    {
     "data": {
      "text/plain": [
       "member_casual\n",
       "member    3066058\n",
       "casual    2529005\n",
       "dtype: int64"
      ]
     },
     "execution_count": 10,
     "metadata": {},
     "output_type": "execute_result"
    }
   ],
   "source": [
    "data.value_counts('member_casual')"
   ]
  },
  {
   "cell_type": "markdown",
   "id": "49abd3bf",
   "metadata": {},
   "source": [
    "No unusual entries for 'member_casual' were found.\n",
    "\n",
    "### The trip_duration_seconds column\n",
    "Convert the 'started_at' and 'ended_at' columns from object to datetime."
   ]
  },
  {
   "cell_type": "code",
   "execution_count": 28,
   "id": "e25549e1",
   "metadata": {},
   "outputs": [],
   "source": [
    "data['started_at'] = pd.to_datetime(data['started_at'])\n",
    "data['ended_at'] = pd.to_datetime(data['ended_at'])"
   ]
  },
  {
   "cell_type": "markdown",
   "id": "fcc36c92",
   "metadata": {},
   "source": [
    "Add a new column giving the trip duration for each trip, in seconds."
   ]
  },
  {
   "cell_type": "code",
   "execution_count": 29,
   "id": "d122a0e1",
   "metadata": {},
   "outputs": [],
   "source": [
    "data['trip_duration_seconds'] = (data['ended_at'] - data['started_at']).dt.total_seconds()"
   ]
  },
  {
   "cell_type": "markdown",
   "id": "8d938d6b",
   "metadata": {},
   "source": [
    "Check this new column for zero or negative values."
   ]
  },
  {
   "cell_type": "code",
   "execution_count": 30,
   "id": "97fc1b69",
   "metadata": {
    "scrolled": true
   },
   "outputs": [
    {
     "name": "stdout",
     "output_type": "stream",
     "text": [
      "Empty DataFrame\n",
      "Columns: [ride_id, rideable_type, started_at, ended_at, member_casual, trip_duration_seconds, month, day_of_week, hour_of_day, trip_duration_minutes]\n",
      "Index: []\n"
     ]
    }
   ],
   "source": [
    "print(data[data['trip_duration_seconds'] <= 0])"
   ]
  },
  {
   "cell_type": "markdown",
   "id": "4f87fe71",
   "metadata": {},
   "source": [
    "There are a number of such trips. Inspect a few of these entries closer, to see why this may have happened."
   ]
  },
  {
   "cell_type": "code",
   "execution_count": 31,
   "id": "1e59ff81",
   "metadata": {
    "scrolled": false
   },
   "outputs": [
    {
     "name": "stdout",
     "output_type": "stream",
     "text": [
      "ride_id                     1A93913057400661\n",
      "rideable_type                  electric_bike\n",
      "started_at               2021-01-29 17:22:19\n",
      "ended_at                 2021-01-29 17:41:23\n",
      "member_casual                         member\n",
      "trip_duration_seconds                 1144.0\n",
      "month                                    Jan\n",
      "day_of_week                              Fri\n",
      "hour_of_day                            05 PM\n",
      "trip_duration_minutes                    0.0\n",
      "Name: 6598, dtype: object\n",
      "ride_id                     AE6CE583930B82D8\n",
      "rideable_type                   classic_bike\n",
      "started_at               2021-01-21 20:07:06\n",
      "ended_at                 2021-01-21 20:18:44\n",
      "member_casual                         casual\n",
      "trip_duration_seconds                  698.0\n",
      "month                                    Jan\n",
      "day_of_week                              Thu\n",
      "hour_of_day                            08 PM\n",
      "trip_duration_minutes                    0.0\n",
      "Name: 35716, dtype: object\n"
     ]
    }
   ],
   "source": [
    "print(data.iloc[6592])\n",
    "print(data.iloc[35676])"
   ]
  },
  {
   "cell_type": "markdown",
   "id": "8ea94c45",
   "metadata": {},
   "source": [
    "Without further information, we cannot tell why these have occured. There are only 653 of these entries, out of a total 5595063. Since these entries make up a small proportion of the overall data, it is sensible to drop them."
   ]
  },
  {
   "cell_type": "code",
   "execution_count": 32,
   "id": "8a25dc91",
   "metadata": {},
   "outputs": [],
   "source": [
    "# retrieve the indices of those entries we want to drop\n",
    "trip_duration_drop_index = data[data['trip_duration_seconds'] <= 0].index\n",
    "# drop them\n",
    "data.drop(trip_duration_drop_index, inplace = True)"
   ]
  },
  {
   "cell_type": "markdown",
   "id": "05a4fafd",
   "metadata": {},
   "source": [
    "We must also check for extremely long trip durations. A quick box plot will show us the distribution of all of the trip durations. We use a log scale to be able to display both the longest and shortest trips on a single graph. We also separate into 'member' and 'casual' to see whether the majority of outliers belongs to one of these in particular."
   ]
  },
  {
   "cell_type": "code",
   "execution_count": 33,
   "id": "324e5f3f",
   "metadata": {
    "scrolled": true
   },
   "outputs": [
    {
     "data": {
      "image/png": "[encoded data removed]",
      "text/plain": [
       "<Figure size 432x288 with 1 Axes>"
      ]
     },
     "metadata": {
      "needs_background": "light"
     },
     "output_type": "display_data"
    }
   ],
   "source": [
    "graph = sns.boxplot(x = 'member_casual', y = 'trip_duration_seconds', data = data)\n",
    "graph.set_yscale('log')\n",
    "plt.show()"
   ]
  },
  {
   "cell_type": "markdown",
   "id": "2fe05405",
   "metadata": {},
   "source": [
    "We can see by the dense overlapping of outlier diamonds that there are lots of outliers. We should go further to see exactly how many outliers there are, before deciding what to do with them."
   ]
  },
  {
   "cell_type": "code",
   "execution_count": 34,
   "id": "dc977ad8",
   "metadata": {},
   "outputs": [
    {
     "name": "stdout",
     "output_type": "stream",
     "text": [
      "                 ride_id  rideable_type          started_at  \\\n",
      "5       5D8969F88C773979  electric_bike 2021-01-09 14:24:07   \n",
      "132     0EDD906628861314   classic_bike 2021-01-22 20:54:49   \n",
      "149     33A754F67BD337A7   classic_bike 2021-01-13 14:29:33   \n",
      "175     2CE7583737A818C4   classic_bike 2021-01-04 14:03:49   \n",
      "342     795E03AF09CE93F8   classic_bike 2021-01-21 11:13:36   \n",
      "...                  ...            ...                 ...   \n",
      "247438  568020D3A0F08B7F  electric_bike 2021-12-10 23:47:18   \n",
      "247467  72DB1CFA499307C5  electric_bike 2021-12-04 08:20:04   \n",
      "247484  03F076EF05431C27   classic_bike 2021-12-06 08:52:32   \n",
      "247495  CF3BE5E8BA226DD5  electric_bike 2021-12-27 13:38:18   \n",
      "247534  92BBAB97D1683D69  electric_bike 2021-12-24 15:42:09   \n",
      "\n",
      "                  ended_at member_casual  trip_duration_seconds month  \\\n",
      "5      2021-01-09 15:17:54        casual                 3227.0   Jan   \n",
      "132    2021-01-22 21:41:26        member                 2797.0   Jan   \n",
      "149    2021-01-13 15:17:50        member                 2897.0   Jan   \n",
      "175    2021-01-04 15:18:26        casual                 4477.0   Jan   \n",
      "342    2021-01-21 12:16:25        member                 3769.0   Jan   \n",
      "...                    ...           ...                    ...   ...   \n",
      "247438 2021-12-11 00:34:06        member                 2808.0   Dec   \n",
      "247467 2021-12-04 10:49:10        casual                 8946.0   Dec   \n",
      "247484 2021-12-07 09:52:18        casual                89986.0   Dec   \n",
      "247495 2021-12-27 14:43:33        casual                 3915.0   Dec   \n",
      "247534 2021-12-24 19:29:35        casual                13646.0   Dec   \n",
      "\n",
      "       day_of_week hour_of_day  trip_duration_minutes  \n",
      "5              Sat       02 PM                    0.0  \n",
      "132            Fri       08 PM                    0.0  \n",
      "149            Wed       02 PM                    0.0  \n",
      "175            Mon       02 PM                    1.0  \n",
      "342            Thu       11 AM                    1.0  \n",
      "...            ...         ...                    ...  \n",
      "247438         Fri       11 PM                    0.0  \n",
      "247467         Sat       08 AM                    2.0  \n",
      "247484         Mon       08 AM                   24.0  \n",
      "247495         Mon       01 PM                    1.0  \n",
      "247534         Fri       03 PM                    3.0  \n",
      "\n",
      "[413973 rows x 10 columns]\n"
     ]
    }
   ],
   "source": [
    "# check for the statistical outliers, using the interquartile range\n",
    "quartile_75 = data['trip_duration_seconds'].quantile(.75)\n",
    "quartile_25 = data['trip_duration_seconds'].quantile(.25)\n",
    "iqr = quartile_75 - quartile_25\n",
    "upper_threshold = quartile_75 + 1.5*iqr\n",
    "# observe how many outliers there are\n",
    "print(data[data['trip_duration_seconds'] > upper_threshold])"
   ]
  },
  {
   "cell_type": "markdown",
   "id": "111ea147",
   "metadata": {},
   "source": [
    "This is about 7.3% of the total data we have, so we cannot simply drop the outliers. It could be argued that we drop just the most extreme outliers, but there is too much choice in how we decide which outliers are 'extreme'. Also notice that the longest trip durations for the casual riders are longer, so removing them would effect analyses when comparing casuals vs members. I have decided that we should keep all the outliers in, and when we analyse trip durations later on, **we will do so by observing the median, and avoid using the mean or the maximum**. This is because the median is less affected by outliers compared to the mean or the maximum.\n",
    "\n",
    "### Adding more columns\n",
    "We move onto adding some new columns which will be useful to our analysis. Namely, columns giving the months, weekdays and hour of the day each ride started in."
   ]
  },
  {
   "cell_type": "code",
   "execution_count": 36,
   "id": "dbae56e1",
   "metadata": {},
   "outputs": [],
   "source": [
    "data['month'] = data['started_at'].dt.strftime('%b')\n",
    "data['day_of_week'] = data['started_at'].dt.strftime('%a')\n",
    "data['hour_of_day'] = data['started_at'].dt.strftime('%I %p')"
   ]
  },
  {
   "cell_type": "code",
   "execution_count": 38,
   "id": "1c159b34",
   "metadata": {},
   "outputs": [
    {
     "data": {
      "text/html": [
       "<div>\n",
       "<style scoped>\n",
       "    .dataframe tbody tr th:only-of-type {\n",
       "        vertical-align: middle;\n",
       "    }\n",
       "\n",
       "    .dataframe tbody tr th {\n",
       "        vertical-align: top;\n",
       "    }\n",
       "\n",
       "    .dataframe thead th {\n",
       "        text-align: right;\n",
       "    }\n",
       "</style>\n",
       "<table border=\"1\" class=\"dataframe\">\n",
       "  <thead>\n",
       "    <tr style=\"text-align: right;\">\n",
       "      <th></th>\n",
       "      <th>ride_id</th>\n",
       "      <th>rideable_type</th>\n",
       "      <th>started_at</th>\n",
       "      <th>ended_at</th>\n",
       "      <th>member_casual</th>\n",
       "      <th>trip_duration_seconds</th>\n",
       "      <th>month</th>\n",
       "      <th>day_of_week</th>\n",
       "      <th>hour_of_day</th>\n",
       "      <th>trip_duration_minutes</th>\n",
       "    </tr>\n",
       "  </thead>\n",
       "  <tbody>\n",
       "    <tr>\n",
       "      <th>0</th>\n",
       "      <td>E19E6F1B8D4C42ED</td>\n",
       "      <td>electric_bike</td>\n",
       "      <td>2021-01-23 16:14:19</td>\n",
       "      <td>2021-01-23 16:24:44</td>\n",
       "      <td>member</td>\n",
       "      <td>625.0</td>\n",
       "      <td>Jan</td>\n",
       "      <td>Sat</td>\n",
       "      <td>04 PM</td>\n",
       "      <td>0.0</td>\n",
       "    </tr>\n",
       "    <tr>\n",
       "      <th>1</th>\n",
       "      <td>DC88F20C2C55F27F</td>\n",
       "      <td>electric_bike</td>\n",
       "      <td>2021-01-27 18:43:08</td>\n",
       "      <td>2021-01-27 18:47:12</td>\n",
       "      <td>member</td>\n",
       "      <td>244.0</td>\n",
       "      <td>Jan</td>\n",
       "      <td>Wed</td>\n",
       "      <td>06 PM</td>\n",
       "      <td>0.0</td>\n",
       "    </tr>\n",
       "    <tr>\n",
       "      <th>2</th>\n",
       "      <td>EC45C94683FE3F27</td>\n",
       "      <td>electric_bike</td>\n",
       "      <td>2021-01-21 22:35:54</td>\n",
       "      <td>2021-01-21 22:37:14</td>\n",
       "      <td>member</td>\n",
       "      <td>80.0</td>\n",
       "      <td>Jan</td>\n",
       "      <td>Thu</td>\n",
       "      <td>10 PM</td>\n",
       "      <td>0.0</td>\n",
       "    </tr>\n",
       "    <tr>\n",
       "      <th>3</th>\n",
       "      <td>4FA453A75AE377DB</td>\n",
       "      <td>electric_bike</td>\n",
       "      <td>2021-01-07 13:31:13</td>\n",
       "      <td>2021-01-07 13:42:55</td>\n",
       "      <td>member</td>\n",
       "      <td>702.0</td>\n",
       "      <td>Jan</td>\n",
       "      <td>Thu</td>\n",
       "      <td>01 PM</td>\n",
       "      <td>0.0</td>\n",
       "    </tr>\n",
       "    <tr>\n",
       "      <th>4</th>\n",
       "      <td>BE5E8EB4E7263A0B</td>\n",
       "      <td>electric_bike</td>\n",
       "      <td>2021-01-23 02:24:02</td>\n",
       "      <td>2021-01-23 02:24:45</td>\n",
       "      <td>casual</td>\n",
       "      <td>43.0</td>\n",
       "      <td>Jan</td>\n",
       "      <td>Sat</td>\n",
       "      <td>02 AM</td>\n",
       "      <td>0.0</td>\n",
       "    </tr>\n",
       "  </tbody>\n",
       "</table>\n",
       "</div>"
      ],
      "text/plain": [
       "            ride_id  rideable_type          started_at            ended_at  \\\n",
       "0  E19E6F1B8D4C42ED  electric_bike 2021-01-23 16:14:19 2021-01-23 16:24:44   \n",
       "1  DC88F20C2C55F27F  electric_bike 2021-01-27 18:43:08 2021-01-27 18:47:12   \n",
       "2  EC45C94683FE3F27  electric_bike 2021-01-21 22:35:54 2021-01-21 22:37:14   \n",
       "3  4FA453A75AE377DB  electric_bike 2021-01-07 13:31:13 2021-01-07 13:42:55   \n",
       "4  BE5E8EB4E7263A0B  electric_bike 2021-01-23 02:24:02 2021-01-23 02:24:45   \n",
       "\n",
       "  member_casual  trip_duration_seconds month day_of_week hour_of_day  \\\n",
       "0        member                  625.0   Jan         Sat       04 PM   \n",
       "1        member                  244.0   Jan         Wed       06 PM   \n",
       "2        member                   80.0   Jan         Thu       10 PM   \n",
       "3        member                  702.0   Jan         Thu       01 PM   \n",
       "4        casual                   43.0   Jan         Sat       02 AM   \n",
       "\n",
       "   trip_duration_minutes  \n",
       "0                    0.0  \n",
       "1                    0.0  \n",
       "2                    0.0  \n",
       "3                    0.0  \n",
       "4                    0.0  "
      ]
     },
     "execution_count": 38,
     "metadata": {},
     "output_type": "execute_result"
    }
   ],
   "source": [
    "data.head()"
   ]
  },
  {
   "cell_type": "markdown",
   "id": "7d4ca540",
   "metadata": {},
   "source": [
    "### Converting from seconds to minutes\n",
    "Before we go about visualising our data and drawing conclusions, we will convert the trip_duration_seconds column to minutes instead. This is simply so that our graphs are slightly more intuitive to read later."
   ]
  },
  {
   "cell_type": "code",
   "execution_count": 43,
   "id": "2607ab41",
   "metadata": {
    "scrolled": true
   },
   "outputs": [],
   "source": [
    "# create a new column in minutes (rounding down)\n",
    "data['trip_duration_minutes'] = data['trip_duration_seconds'] / 60"
   ]
  },
  {
   "cell_type": "markdown",
   "id": "dd9eaa39",
   "metadata": {},
   "source": [
    "### Saving the clean data\n",
    "Save our data to a .csv file, which we will then upload to Tableau."
   ]
  },
  {
   "cell_type": "code",
   "execution_count": 44,
   "id": "7a02a4eb",
   "metadata": {},
   "outputs": [],
   "source": [
    "data.to_csv('cyclistic_clean.csv', index = False, encoding = 'utf-8')"
   ]
  }
 ],
 "metadata": {
  "kernelspec": {
   "display_name": "Python 3",
   "language": "python",
   "name": "python3"
  },
  "language_info": {
   "codemirror_mode": {
    "name": "ipython",
    "version": 3
   },
   "file_extension": ".py",
   "mimetype": "text/x-python",
   "name": "python",
   "nbconvert_exporter": "python",
   "pygments_lexer": "ipython3",
   "version": "3.8.8"
  }
 },
 "nbformat": 4,
 "nbformat_minor": 5
}
