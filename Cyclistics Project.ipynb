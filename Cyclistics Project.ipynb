{
 "cells": [
  {
   "cell_type": "markdown",
   "id": "8a1566eb",
   "metadata": {},
   "source": [
    "Import all the packages we will be using."
   ]
  },
  {
   "cell_type": "code",
   "execution_count": 29,
   "id": "3d9ddac1",
   "metadata": {},
   "outputs": [],
   "source": [
    "import pandas as pd\n",
    "import seaborn as sns\n",
    "import matplotlib.pyplot as plt"
   ]
  },
  {
   "cell_type": "markdown",
   "id": "987760fe",
   "metadata": {},
   "source": [
    "Load all of the data we need."
   ]
  },
  {
   "cell_type": "code",
   "execution_count": 6,
   "id": "a7b3ead9",
   "metadata": {},
   "outputs": [],
   "source": [
    "jan_2019 = pd.read_csv(r\"C:\\Users\\besso\\Documents\\Google Analytics Course\\202101-divvy-tripdata.csv\")\n",
    "feb_2019 = pd.read_csv(r\"C:\\Users\\besso\\Documents\\Google Analytics Course\\202102-divvy-tripdata.csv\")\n",
    "mar_2019 = pd.read_csv(r\"C:\\Users\\besso\\Documents\\Google Analytics Course\\202103-divvy-tripdata.csv\")\n",
    "apr_2019 = pd.read_csv(r\"C:\\Users\\besso\\Documents\\Google Analytics Course\\202104-divvy-tripdata.csv\")\n",
    "may_2019 = pd.read_csv(r\"C:\\Users\\besso\\Documents\\Google Analytics Course\\202105-divvy-tripdata.csv\")\n",
    "jun_2019 = pd.read_csv(r\"C:\\Users\\besso\\Documents\\Google Analytics Course\\202106-divvy-tripdata.csv\")\n",
    "jul_2019 = pd.read_csv(r\"C:\\Users\\besso\\Documents\\Google Analytics Course\\202107-divvy-tripdata.csv\")\n",
    "aug_2019 = pd.read_csv(r\"C:\\Users\\besso\\Documents\\Google Analytics Course\\202108-divvy-tripdata.csv\")\n",
    "sep_2019 = pd.read_csv(r\"C:\\Users\\besso\\Documents\\Google Analytics Course\\202109-divvy-tripdata.csv\")\n",
    "oct_2019 = pd.read_csv(r\"C:\\Users\\besso\\Documents\\Google Analytics Course\\202110-divvy-tripdata.csv\")\n",
    "nov_2019 = pd.read_csv(r\"C:\\Users\\besso\\Documents\\Google Analytics Course\\202111-divvy-tripdata.csv\")\n",
    "dec_2019 = pd.read_csv(r\"C:\\Users\\besso\\Documents\\Google Analytics Course\\202112-divvy-tripdata.csv\")"
   ]
  },
  {
   "cell_type": "markdown",
   "id": "4cca0edc",
   "metadata": {},
   "source": [
    "Observe the general info of each file to get a feel for the number of rows in each. Also check the column names within each file before we go about joining them all into one."
   ]
  },
  {
   "cell_type": "code",
   "execution_count": 7,
   "id": "59f28d7f",
   "metadata": {},
   "outputs": [
    {
     "name": "stdout",
     "output_type": "stream",
     "text": [
      "<class 'pandas.core.frame.DataFrame'>\n",
      "RangeIndex: 96834 entries, 0 to 96833\n",
      "Data columns (total 13 columns):\n",
      " #   Column              Non-Null Count  Dtype  \n",
      "---  ------              --------------  -----  \n",
      " 0   ride_id             96834 non-null  object \n",
      " 1   rideable_type       96834 non-null  object \n",
      " 2   started_at          96834 non-null  object \n",
      " 3   ended_at            96834 non-null  object \n",
      " 4   start_station_name  88209 non-null  object \n",
      " 5   start_station_id    88209 non-null  object \n",
      " 6   end_station_name    86557 non-null  object \n",
      " 7   end_station_id      86557 non-null  object \n",
      " 8   start_lat           96834 non-null  float64\n",
      " 9   start_lng           96834 non-null  float64\n",
      " 10  end_lat             96731 non-null  float64\n",
      " 11  end_lng             96731 non-null  float64\n",
      " 12  member_casual       96834 non-null  object \n",
      "dtypes: float64(4), object(9)\n",
      "memory usage: 9.6+ MB\n",
      "<class 'pandas.core.frame.DataFrame'>\n",
      "RangeIndex: 49622 entries, 0 to 49621\n",
      "Data columns (total 13 columns):\n",
      " #   Column              Non-Null Count  Dtype  \n",
      "---  ------              --------------  -----  \n",
      " 0   ride_id             49622 non-null  object \n",
      " 1   rideable_type       49622 non-null  object \n",
      " 2   started_at          49622 non-null  object \n",
      " 3   ended_at            49622 non-null  object \n",
      " 4   start_station_name  45576 non-null  object \n",
      " 5   start_station_id    45576 non-null  object \n",
      " 6   end_station_name    44264 non-null  object \n",
      " 7   end_station_id      44264 non-null  object \n",
      " 8   start_lat           49622 non-null  float64\n",
      " 9   start_lng           49622 non-null  float64\n",
      " 10  end_lat             49408 non-null  float64\n",
      " 11  end_lng             49408 non-null  float64\n",
      " 12  member_casual       49622 non-null  object \n",
      "dtypes: float64(4), object(9)\n",
      "memory usage: 4.9+ MB\n",
      "<class 'pandas.core.frame.DataFrame'>\n",
      "RangeIndex: 228496 entries, 0 to 228495\n",
      "Data columns (total 13 columns):\n",
      " #   Column              Non-Null Count   Dtype  \n",
      "---  ------              --------------   -----  \n",
      " 0   ride_id             228496 non-null  object \n",
      " 1   rideable_type       228496 non-null  object \n",
      " 2   started_at          228496 non-null  object \n",
      " 3   ended_at            228496 non-null  object \n",
      " 4   start_station_name  213648 non-null  object \n",
      " 5   start_station_id    213648 non-null  object \n",
      " 6   end_station_name    211769 non-null  object \n",
      " 7   end_station_id      211769 non-null  object \n",
      " 8   start_lat           228496 non-null  float64\n",
      " 9   start_lng           228496 non-null  float64\n",
      " 10  end_lat             228329 non-null  float64\n",
      " 11  end_lng             228329 non-null  float64\n",
      " 12  member_casual       228496 non-null  object \n",
      "dtypes: float64(4), object(9)\n",
      "memory usage: 22.7+ MB\n",
      "<class 'pandas.core.frame.DataFrame'>\n",
      "RangeIndex: 337230 entries, 0 to 337229\n",
      "Data columns (total 13 columns):\n",
      " #   Column              Non-Null Count   Dtype  \n",
      "---  ------              --------------   -----  \n",
      " 0   ride_id             337230 non-null  object \n",
      " 1   rideable_type       337230 non-null  object \n",
      " 2   started_at          337230 non-null  object \n",
      " 3   ended_at            337230 non-null  object \n",
      " 4   start_station_name  311174 non-null  object \n",
      " 5   start_station_id    311174 non-null  object \n",
      " 6   end_station_name    309056 non-null  object \n",
      " 7   end_station_id      309056 non-null  object \n",
      " 8   start_lat           337230 non-null  float64\n",
      " 9   start_lng           337230 non-null  float64\n",
      " 10  end_lat             336963 non-null  float64\n",
      " 11  end_lng             336963 non-null  float64\n",
      " 12  member_casual       337230 non-null  object \n",
      "dtypes: float64(4), object(9)\n",
      "memory usage: 33.4+ MB\n",
      "<class 'pandas.core.frame.DataFrame'>\n",
      "RangeIndex: 531633 entries, 0 to 531632\n",
      "Data columns (total 13 columns):\n",
      " #   Column              Non-Null Count   Dtype  \n",
      "---  ------              --------------   -----  \n",
      " 0   ride_id             531633 non-null  object \n",
      " 1   rideable_type       531633 non-null  object \n",
      " 2   started_at          531633 non-null  object \n",
      " 3   ended_at            531633 non-null  object \n",
      " 4   start_station_name  477889 non-null  object \n",
      " 5   start_station_id    477889 non-null  object \n",
      " 6   end_station_name    473439 non-null  object \n",
      " 7   end_station_id      473439 non-null  object \n",
      " 8   start_lat           531633 non-null  float64\n",
      " 9   start_lng           531633 non-null  float64\n",
      " 10  end_lat             531181 non-null  float64\n",
      " 11  end_lng             531181 non-null  float64\n",
      " 12  member_casual       531633 non-null  object \n",
      "dtypes: float64(4), object(9)\n",
      "memory usage: 52.7+ MB\n",
      "<class 'pandas.core.frame.DataFrame'>\n",
      "RangeIndex: 729595 entries, 0 to 729594\n",
      "Data columns (total 13 columns):\n",
      " #   Column              Non-Null Count   Dtype  \n",
      "---  ------              --------------   -----  \n",
      " 0   ride_id             729595 non-null  object \n",
      " 1   rideable_type       729595 non-null  object \n",
      " 2   started_at          729595 non-null  object \n",
      " 3   ended_at            729595 non-null  object \n",
      " 4   start_station_name  649502 non-null  object \n",
      " 5   start_station_id    649502 non-null  object \n",
      " 6   end_station_name    643208 non-null  object \n",
      " 7   end_station_id      643208 non-null  object \n",
      " 8   start_lat           729595 non-null  float64\n",
      " 9   start_lng           729595 non-null  float64\n",
      " 10  end_lat             728878 non-null  float64\n",
      " 11  end_lng             728878 non-null  float64\n",
      " 12  member_casual       729595 non-null  object \n",
      "dtypes: float64(4), object(9)\n",
      "memory usage: 72.4+ MB\n",
      "<class 'pandas.core.frame.DataFrame'>\n",
      "RangeIndex: 822410 entries, 0 to 822409\n",
      "Data columns (total 13 columns):\n",
      " #   Column              Non-Null Count   Dtype  \n",
      "---  ------              --------------   -----  \n",
      " 0   ride_id             822410 non-null  object \n",
      " 1   rideable_type       822410 non-null  object \n",
      " 2   started_at          822410 non-null  object \n",
      " 3   ended_at            822410 non-null  object \n",
      " 4   start_station_name  735147 non-null  object \n",
      " 5   start_station_id    735148 non-null  object \n",
      " 6   end_station_name    729252 non-null  object \n",
      " 7   end_station_id      729252 non-null  object \n",
      " 8   start_lat           822410 non-null  float64\n",
      " 9   start_lng           822410 non-null  float64\n",
      " 10  end_lat             821679 non-null  float64\n",
      " 11  end_lng             821679 non-null  float64\n",
      " 12  member_casual       822410 non-null  object \n",
      "dtypes: float64(4), object(9)\n",
      "memory usage: 81.6+ MB\n",
      "<class 'pandas.core.frame.DataFrame'>\n",
      "RangeIndex: 804352 entries, 0 to 804351\n",
      "Data columns (total 13 columns):\n",
      " #   Column              Non-Null Count   Dtype  \n",
      "---  ------              --------------   -----  \n",
      " 0   ride_id             804352 non-null  object \n",
      " 1   rideable_type       804352 non-null  object \n",
      " 2   started_at          804352 non-null  object \n",
      " 3   ended_at            804352 non-null  object \n",
      " 4   start_station_name  715894 non-null  object \n",
      " 5   start_station_id    715894 non-null  object \n",
      " 6   end_station_name    710237 non-null  object \n",
      " 7   end_station_id      710237 non-null  object \n",
      " 8   start_lat           804352 non-null  float64\n",
      " 9   start_lng           804352 non-null  float64\n",
      " 10  end_lat             803646 non-null  float64\n",
      " 11  end_lng             803646 non-null  float64\n",
      " 12  member_casual       804352 non-null  object \n",
      "dtypes: float64(4), object(9)\n",
      "memory usage: 79.8+ MB\n",
      "<class 'pandas.core.frame.DataFrame'>\n",
      "RangeIndex: 756147 entries, 0 to 756146\n",
      "Data columns (total 13 columns):\n",
      " #   Column              Non-Null Count   Dtype  \n",
      "---  ------              --------------   -----  \n",
      " 0   ride_id             756147 non-null  object \n",
      " 1   rideable_type       756147 non-null  object \n",
      " 2   started_at          756147 non-null  object \n",
      " 3   ended_at            756147 non-null  object \n",
      " 4   start_station_name  663034 non-null  object \n",
      " 5   start_station_id    663036 non-null  object \n",
      " 6   end_station_name    656886 non-null  object \n",
      " 7   end_station_id      656886 non-null  object \n",
      " 8   start_lat           756147 non-null  float64\n",
      " 9   start_lng           756147 non-null  float64\n",
      " 10  end_lat             755552 non-null  float64\n",
      " 11  end_lng             755552 non-null  float64\n",
      " 12  member_casual       756147 non-null  object \n",
      "dtypes: float64(4), object(9)\n",
      "memory usage: 75.0+ MB\n",
      "<class 'pandas.core.frame.DataFrame'>\n",
      "RangeIndex: 631226 entries, 0 to 631225\n",
      "Data columns (total 13 columns):\n",
      " #   Column              Non-Null Count   Dtype  \n",
      "---  ------              --------------   -----  \n",
      " 0   ride_id             631226 non-null  object \n",
      " 1   rideable_type       631226 non-null  object \n",
      " 2   started_at          631226 non-null  object \n",
      " 3   ended_at            631226 non-null  object \n",
      " 4   start_station_name  523016 non-null  object \n",
      " 5   start_station_id    523016 non-null  object \n",
      " 6   end_station_name    516392 non-null  object \n",
      " 7   end_station_id      516392 non-null  object \n",
      " 8   start_lat           631226 non-null  float64\n",
      " 9   start_lng           631226 non-null  float64\n",
      " 10  end_lat             630742 non-null  float64\n",
      " 11  end_lng             630742 non-null  float64\n",
      " 12  member_casual       631226 non-null  object \n",
      "dtypes: float64(4), object(9)\n",
      "memory usage: 62.6+ MB\n",
      "<class 'pandas.core.frame.DataFrame'>\n",
      "RangeIndex: 359978 entries, 0 to 359977\n",
      "Data columns (total 13 columns):\n",
      " #   Column              Non-Null Count   Dtype  \n",
      "---  ------              --------------   -----  \n",
      " 0   ride_id             359978 non-null  object \n",
      " 1   rideable_type       359978 non-null  object \n",
      " 2   started_at          359978 non-null  object \n",
      " 3   ended_at            359978 non-null  object \n",
      " 4   start_station_name  284688 non-null  object \n",
      " 5   start_station_id    284688 non-null  object \n",
      " 6   end_station_name    280791 non-null  object \n",
      " 7   end_station_id      280791 non-null  object \n",
      " 8   start_lat           359978 non-null  float64\n",
      " 9   start_lng           359978 non-null  float64\n",
      " 10  end_lat             359787 non-null  float64\n",
      " 11  end_lng             359787 non-null  float64\n",
      " 12  member_casual       359978 non-null  object \n",
      "dtypes: float64(4), object(9)\n",
      "memory usage: 35.7+ MB\n",
      "<class 'pandas.core.frame.DataFrame'>\n",
      "RangeIndex: 247540 entries, 0 to 247539\n",
      "Data columns (total 13 columns):\n",
      " #   Column              Non-Null Count   Dtype  \n",
      "---  ------              --------------   -----  \n",
      " 0   ride_id             247540 non-null  object \n",
      " 1   rideable_type       247540 non-null  object \n",
      " 2   started_at          247540 non-null  object \n",
      " 3   ended_at            247540 non-null  object \n",
      " 4   start_station_name  196477 non-null  object \n",
      " 5   start_station_id    196477 non-null  object \n",
      " 6   end_station_name    194042 non-null  object \n",
      " 7   end_station_id      194042 non-null  object \n",
      " 8   start_lat           247540 non-null  float64\n",
      " 9   start_lng           247540 non-null  float64\n",
      " 10  end_lat             247396 non-null  float64\n",
      " 11  end_lng             247396 non-null  float64\n",
      " 12  member_casual       247540 non-null  object \n",
      "dtypes: float64(4), object(9)\n",
      "memory usage: 24.6+ MB\n"
     ]
    }
   ],
   "source": [
    "jan_2019.info()\n",
    "feb_2019.info()\n",
    "mar_2019.info()\n",
    "apr_2019.info()\n",
    "may_2019.info()\n",
    "jun_2019.info()\n",
    "jul_2019.info()\n",
    "aug_2019.info()\n",
    "sep_2019.info()\n",
    "oct_2019.info()\n",
    "nov_2019.info()\n",
    "dec_2019.info()"
   ]
  },
  {
   "cell_type": "markdown",
   "id": "28b2bce7",
   "metadata": {},
   "source": [
    "No potential issues found, combine all 12 files into 1 dataset."
   ]
  },
  {
   "cell_type": "code",
   "execution_count": 8,
   "id": "7263053a",
   "metadata": {},
   "outputs": [],
   "source": [
    "data = pd.concat([jan_2019,feb_2019,mar_2019,apr_2019,may_2019,jun_2019,jul_2019,\n",
    "           aug_2019,sep_2019,oct_2019,nov_2019,dec_2019], axis = 0)"
   ]
  },
  {
   "cell_type": "markdown",
   "id": "e602744d",
   "metadata": {},
   "source": [
    "Drop the columns with information we will not be using."
   ]
  },
  {
   "cell_type": "code",
   "execution_count": 9,
   "id": "c9715d07",
   "metadata": {},
   "outputs": [],
   "source": [
    "data = data.drop(columns = ['start_station_name','start_station_id',\n",
    "                            'end_station_name','end_station_id',\n",
    "                            'start_lat','start_lng','end_lat','end_lng'])  "
   ]
  },
  {
   "cell_type": "markdown",
   "id": "d4e9931e",
   "metadata": {},
   "source": [
    "Check for duplicate rows."
   ]
  },
  {
   "cell_type": "code",
   "execution_count": 10,
   "id": "c5bbd1dc",
   "metadata": {},
   "outputs": [
    {
     "data": {
      "text/html": [
       "<div>\n",
       "<style scoped>\n",
       "    .dataframe tbody tr th:only-of-type {\n",
       "        vertical-align: middle;\n",
       "    }\n",
       "\n",
       "    .dataframe tbody tr th {\n",
       "        vertical-align: top;\n",
       "    }\n",
       "\n",
       "    .dataframe thead th {\n",
       "        text-align: right;\n",
       "    }\n",
       "</style>\n",
       "<table border=\"1\" class=\"dataframe\">\n",
       "  <thead>\n",
       "    <tr style=\"text-align: right;\">\n",
       "      <th></th>\n",
       "      <th>ride_id</th>\n",
       "      <th>rideable_type</th>\n",
       "      <th>started_at</th>\n",
       "      <th>ended_at</th>\n",
       "      <th>member_casual</th>\n",
       "    </tr>\n",
       "  </thead>\n",
       "  <tbody>\n",
       "  </tbody>\n",
       "</table>\n",
       "</div>"
      ],
      "text/plain": [
       "Empty DataFrame\n",
       "Columns: [ride_id, rideable_type, started_at, ended_at, member_casual]\n",
       "Index: []"
      ]
     },
     "execution_count": 10,
     "metadata": {},
     "output_type": "execute_result"
    }
   ],
   "source": [
    "# define the duplicates\n",
    "duplicates = data.duplicated()\n",
    "# print them\n",
    "data[duplicates]"
   ]
  },
  {
   "cell_type": "markdown",
   "id": "11ba153f",
   "metadata": {},
   "source": [
    "None were found.\n",
    "\n",
    "Check how many blank entries there are in the dataframe."
   ]
  },
  {
   "cell_type": "code",
   "execution_count": 11,
   "id": "7675d929",
   "metadata": {},
   "outputs": [
    {
     "data": {
      "text/plain": [
       "ride_id          0\n",
       "rideable_type    0\n",
       "started_at       0\n",
       "ended_at         0\n",
       "member_casual    0\n",
       "dtype: int64"
      ]
     },
     "execution_count": 11,
     "metadata": {},
     "output_type": "execute_result"
    }
   ],
   "source": [
    "data.isna().sum()"
   ]
  },
  {
   "cell_type": "markdown",
   "id": "9c234382",
   "metadata": {},
   "source": [
    "There are none again.\n",
    "\n",
    "Check for unusual entries in the categorical columns 'rideable_type' and 'member_casual'."
   ]
  },
  {
   "cell_type": "code",
   "execution_count": 15,
   "id": "526d8220",
   "metadata": {
    "scrolled": false
   },
   "outputs": [
    {
     "data": {
      "text/plain": [
       "rideable_type\n",
       "classic_bike     3251028\n",
       "electric_bike    2031692\n",
       "docked_bike       312343\n",
       "dtype: int64"
      ]
     },
     "execution_count": 15,
     "metadata": {},
     "output_type": "execute_result"
    }
   ],
   "source": [
    "data.value_counts('rideable_type')"
   ]
  },
  {
   "cell_type": "markdown",
   "id": "d48a0974",
   "metadata": {},
   "source": [
    "On closer thought about the bike types available, it is not clear what the difference between a 'classic' bike and a 'docked' bike is. For the bike-sharing company Cyclistic, a 'classic' bike will be docked at one of the docked stations anyway. There is no way for us to gain any further clarification on this, so I make the call that the 'docked' bikes should be treated as 'classic' bikes."
   ]
  },
  {
   "cell_type": "code",
   "execution_count": 42,
   "id": "c07db030",
   "metadata": {
    "scrolled": true
   },
   "outputs": [],
   "source": [
    "data.loc[data['rideable_type'] == 'docked_bike', ['rideable_type']] = 'classic_bike'"
   ]
  },
  {
   "cell_type": "code",
   "execution_count": 16,
   "id": "5b57f779",
   "metadata": {
    "scrolled": false
   },
   "outputs": [
    {
     "data": {
      "text/plain": [
       "member_casual\n",
       "member    3066058\n",
       "casual    2529005\n",
       "dtype: int64"
      ]
     },
     "execution_count": 16,
     "metadata": {},
     "output_type": "execute_result"
    }
   ],
   "source": [
    "data.value_counts('member_casual')"
   ]
  },
  {
   "cell_type": "markdown",
   "id": "9ea9e166",
   "metadata": {},
   "source": [
    "No unusual entries were found.\n",
    "\n",
    "Convert the 'started_at' and 'ended_at' columns from object to datetime."
   ]
  },
  {
   "cell_type": "code",
   "execution_count": 18,
   "id": "4f4b2101",
   "metadata": {},
   "outputs": [],
   "source": [
    "data['started_at'] = pd.to_datetime(data['started_at'])\n",
    "data['ended_at'] = pd.to_datetime(data['ended_at'])"
   ]
  },
  {
   "cell_type": "markdown",
   "id": "4a4f4831",
   "metadata": {},
   "source": [
    "Add a new column giving the trip duration for each trip, in seconds."
   ]
  },
  {
   "cell_type": "code",
   "execution_count": 19,
   "id": "347b8ec3",
   "metadata": {},
   "outputs": [],
   "source": [
    "data['trip_duration_seconds'] = (data['ended_at'] - data['started_at']).dt.total_seconds()"
   ]
  },
  {
   "cell_type": "markdown",
   "id": "dcd011d1",
   "metadata": {},
   "source": [
    "Check this new column for zero or negative values."
   ]
  },
  {
   "cell_type": "code",
   "execution_count": 21,
   "id": "022a8640",
   "metadata": {
    "scrolled": true
   },
   "outputs": [
    {
     "name": "stdout",
     "output_type": "stream",
     "text": [
      "                 ride_id  rideable_type          started_at  \\\n",
      "6592    FC1EFEF4475D7F56   classic_bike 2021-01-09 15:42:45   \n",
      "35676   6B51296F8E269F2F   classic_bike 2021-01-15 16:40:47   \n",
      "35752   B1235D38EB2F8A9E  electric_bike 2021-01-06 18:33:12   \n",
      "60891   3F02776D0D38F96E   classic_bike 2021-01-29 21:02:41   \n",
      "73012   417EE43395E20C71  electric_bike 2021-01-14 17:30:55   \n",
      "...                  ...            ...                 ...   \n",
      "226578  0A0682829241BE7E  electric_bike 2021-12-03 17:10:39   \n",
      "231895  097BCE7BCAC82D5A  electric_bike 2021-12-31 17:24:52   \n",
      "231938  7D9F6FD8AA55A78D  electric_bike 2021-12-05 11:41:27   \n",
      "238328  B56D8E85B23B672F  electric_bike 2021-12-03 16:57:36   \n",
      "239459  0491DF902148BE58  electric_bike 2021-12-09 19:01:40   \n",
      "\n",
      "                  ended_at member_casual  trip_duration_seconds  \n",
      "6592   2021-01-09 15:41:02        member                 -103.0  \n",
      "35676  2021-01-15 16:40:47        member                    0.0  \n",
      "35752  2021-01-06 18:31:07        member                 -125.0  \n",
      "60891  2021-01-29 21:02:41        member                    0.0  \n",
      "73012  2021-01-14 17:30:55        member                    0.0  \n",
      "...                    ...           ...                    ...  \n",
      "226578 2021-12-03 17:10:39        casual                    0.0  \n",
      "231895 2021-12-31 17:24:52        casual                    0.0  \n",
      "231938 2021-12-05 11:41:27        member                    0.0  \n",
      "238328 2021-12-03 16:57:36        casual                    0.0  \n",
      "239459 2021-12-09 19:01:40        member                    0.0  \n",
      "\n",
      "[653 rows x 6 columns]\n"
     ]
    }
   ],
   "source": [
    "print(data[data['trip_duration_seconds'] <= 0])"
   ]
  },
  {
   "cell_type": "markdown",
   "id": "cd590788",
   "metadata": {},
   "source": [
    "There are a number of such trips. Inspect a few of these entries closer, to see why this may have happened."
   ]
  },
  {
   "cell_type": "code",
   "execution_count": 22,
   "id": "7fceaf18",
   "metadata": {
    "scrolled": false
   },
   "outputs": [
    {
     "name": "stdout",
     "output_type": "stream",
     "text": [
      "ride_id                     FC1EFEF4475D7F56\n",
      "rideable_type                   classic_bike\n",
      "started_at               2021-01-09 15:42:45\n",
      "ended_at                 2021-01-09 15:41:02\n",
      "member_casual                         member\n",
      "trip_duration_seconds                 -103.0\n",
      "Name: 6592, dtype: object\n",
      "ride_id                     6B51296F8E269F2F\n",
      "rideable_type                   classic_bike\n",
      "started_at               2021-01-15 16:40:47\n",
      "ended_at                 2021-01-15 16:40:47\n",
      "member_casual                         member\n",
      "trip_duration_seconds                    0.0\n",
      "Name: 35676, dtype: object\n"
     ]
    }
   ],
   "source": [
    "print(data.iloc[6592])\n",
    "print(data.iloc[35676])"
   ]
  },
  {
   "cell_type": "markdown",
   "id": "c4758f1b",
   "metadata": {},
   "source": [
    "Without further information, we cannot tell why these have occured. There are only 653 of these entries, out of a total 5595063. Since these entries make up a small proportion of the overall data, it is sensible to drop them."
   ]
  },
  {
   "cell_type": "code",
   "execution_count": 25,
   "id": "df621cf3",
   "metadata": {},
   "outputs": [],
   "source": [
    "# retrieve the indices of those entries we want to drop\n",
    "trip_duration_drop_index = data[data['trip_duration_seconds'] <= 0].index\n",
    "# drop them\n",
    "data.drop(trip_duration_drop_index, inplace = True)"
   ]
  },
  {
   "cell_type": "markdown",
   "id": "034ad4e8",
   "metadata": {},
   "source": [
    "We must also check for extremely long trip durations. A quick box plot will show us the distribution of all of the trip durations. We use a log scale to be able to display both the longest and shortest trips on a single graph. We also separate into 'member' and 'casual' to see whether the majority of outliers belongs to one of these in particular."
   ]
  },
  {
   "cell_type": "code",
   "execution_count": 33,
   "id": "fe7464a2",
   "metadata": {
    "scrolled": true
   },
   "outputs": [
    {
     "data": {
      "image/png": "[encoded data removed]",
      "text/plain": [
       "<Figure size 640x480 with 1 Axes>"
      ]
     },
     "metadata": {},
     "output_type": "display_data"
    }
   ],
   "source": [
    "graph = sns.boxplot(x = 'member_casual', y = 'trip_duration_seconds', data = data)\n",
    "graph.set_yscale('log')\n",
    "plt.show()"
   ]
  },
  {
   "cell_type": "markdown",
   "id": "da98ca75",
   "metadata": {},
   "source": [
    "We can see by the overlapping of outlier diamonds that there are lots of outliers. We should go further to see exactly how many outliers there are, before deciding what to do with them."
   ]
  },
  {
   "cell_type": "code",
   "execution_count": 34,
   "id": "937e1f64",
   "metadata": {},
   "outputs": [
    {
     "name": "stdout",
     "output_type": "stream",
     "text": [
      "                 ride_id  rideable_type          started_at  \\\n",
      "5       5D8969F88C773979  electric_bike 2021-01-09 14:24:07   \n",
      "132     0EDD906628861314   classic_bike 2021-01-22 20:54:49   \n",
      "149     33A754F67BD337A7   classic_bike 2021-01-13 14:29:33   \n",
      "175     2CE7583737A818C4   classic_bike 2021-01-04 14:03:49   \n",
      "342     795E03AF09CE93F8   classic_bike 2021-01-21 11:13:36   \n",
      "...                  ...            ...                 ...   \n",
      "247438  568020D3A0F08B7F  electric_bike 2021-12-10 23:47:18   \n",
      "247467  72DB1CFA499307C5  electric_bike 2021-12-04 08:20:04   \n",
      "247484  03F076EF05431C27   classic_bike 2021-12-06 08:52:32   \n",
      "247495  CF3BE5E8BA226DD5  electric_bike 2021-12-27 13:38:18   \n",
      "247534  92BBAB97D1683D69  electric_bike 2021-12-24 15:42:09   \n",
      "\n",
      "                  ended_at member_casual  trip_duration_seconds  \n",
      "5      2021-01-09 15:17:54        casual                 3227.0  \n",
      "132    2021-01-22 21:41:26        member                 2797.0  \n",
      "149    2021-01-13 15:17:50        member                 2897.0  \n",
      "175    2021-01-04 15:18:26        casual                 4477.0  \n",
      "342    2021-01-21 12:16:25        member                 3769.0  \n",
      "...                    ...           ...                    ...  \n",
      "247438 2021-12-11 00:34:06        member                 2808.0  \n",
      "247467 2021-12-04 10:49:10        casual                 8946.0  \n",
      "247484 2021-12-07 09:52:18        casual                89986.0  \n",
      "247495 2021-12-27 14:43:33        casual                 3915.0  \n",
      "247534 2021-12-24 19:29:35        casual                13646.0  \n",
      "\n",
      "[413973 rows x 6 columns]\n"
     ]
    }
   ],
   "source": [
    "# check for the statistical outliers, using the interquartile range\n",
    "quartile_75 = data['trip_duration_seconds'].quantile(.75)\n",
    "quartile_25 = data['trip_duration_seconds'].quantile(.25)\n",
    "iqr = quartile_75 - quartile_25\n",
    "upper_threshold = quartile_75 + 1.5*iqr\n",
    "# observe how many outliers there are\n",
    "print(data[data['trip_duration_seconds'] > upper_threshold])"
   ]
  },
  {
   "cell_type": "markdown",
   "id": "b61365c9",
   "metadata": {},
   "source": [
    "This is about 7.3% of the total data we have, so we cannot simply drop the outliers. It could be argued that we drop just the most extreme outliers, but there is too much choice in how we decide which outliers are 'extreme'. Also notice that the longest trip durations for the casual riders are longer, so removing them would effect analyses when comparing casuals vs members. I have decided that we should keep all the outliers in, and when we analyse trip durations later on, we will do so by observing the median, and avoid using the mean or the maximum. This is because the median is less affected by outliers compared to the mean or the maximum.\n",
    "\n",
    "Next, we move onto adding some new columns which will be useful to our analysis. Namely, columns giving the months and weekdays each ride started in."
   ]
  },
  {
   "cell_type": "code",
   "execution_count": null,
   "id": "0ff4359b",
   "metadata": {},
   "outputs": [],
   "source": [
    "data['month'] = data['started_at'].dt.month\n",
    "data['day_of_week'] = data['started_at'].dt.weekday"
   ]
  }
 ],
 "metadata": {
  "kernelspec": {
   "display_name": "Python 3 (ipykernel)",
   "language": "python",
   "name": "python3"
  },
  "language_info": {
   "codemirror_mode": {
    "name": "ipython",
    "version": 3
   },
   "file_extension": ".py",
   "mimetype": "text/x-python",
   "name": "python",
   "nbconvert_exporter": "python",
   "pygments_lexer": "ipython3",
   "version": "3.11.3"
  }
 },
 "nbformat": 4,
 "nbformat_minor": 5
}
